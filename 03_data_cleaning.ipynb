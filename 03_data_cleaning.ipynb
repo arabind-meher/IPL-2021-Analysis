{
 "cells": [
  {
   "cell_type": "markdown",
   "id": "bd44a8a0",
   "metadata": {},
   "source": [
    "# Data Cleaning\n",
    "---"
   ]
  },
  {
   "cell_type": "code",
   "execution_count": 1,
   "id": "c54f57cf",
   "metadata": {},
   "outputs": [],
   "source": [
    "import re\n",
    "from os import listdir, mkdir\n",
    "from os.path import join, exists\n",
    "from datetime import datetime\n",
    "\n",
    "import numpy as np\n",
    "import pandas as pd"
   ]
  },
  {
   "cell_type": "code",
   "execution_count": 2,
   "id": "63901856",
   "metadata": {},
   "outputs": [],
   "source": [
    "reading_path = join('..', 'dataset', 'raw')\n",
    "writing_path = join('..', 'dataset', 'csv')\n",
    "\n",
    "if not exists(writing_path):\n",
    "    mkdir(writing_path)"
   ]
  },
  {
   "cell_type": "code",
   "execution_count": 3,
   "id": "f653c01e",
   "metadata": {},
   "outputs": [
    {
     "data": {
      "text/plain": [
       "['Match 01 (MI vs RCB) 2021-04-09.csv',\n",
       " 'Match 02 (CSK vs DC) 2021-04-10.csv',\n",
       " 'Match 03 (SRH vs KKR) 2021-04-11.csv',\n",
       " 'Match 04 (RR vs PBKS) 2021-04-12.csv',\n",
       " 'Match 05 (KKR vs MI) 2021-04-13.csv']"
      ]
     },
     "execution_count": 3,
     "metadata": {},
     "output_type": "execute_result"
    }
   ],
   "source": [
    "files = listdir(reading_path)\n",
    "files[:5]"
   ]
  },
  {
   "cell_type": "code",
   "execution_count": 4,
   "id": "01e30849",
   "metadata": {},
   "outputs": [],
   "source": [
    "teams = {\n",
    "    'CSK': 'Chennai Super Kings',\n",
    "    'DC': 'Delhi Capitals',\n",
    "    'KKR': 'Kolkata Knight Riders',\n",
    "    'MI': 'Mumbai Indians',\n",
    "    'PBKS': 'Punjab Kings',\n",
    "    'RCB': 'Royal Challengers Bangalore',\n",
    "    'RR': 'Rajasthan Royals',\n",
    "    'SRH': 'Sunrisers Hyderabad'}"
   ]
  },
  {
   "cell_type": "code",
   "execution_count": 5,
   "id": "8a45d2df",
   "metadata": {},
   "outputs": [],
   "source": [
    "def clean_data(file_name):\n",
    "    print(file)\n",
    "    match = pd.read_csv(join(reading_path, file_name))\n",
    "    \n",
    "    match_data = dict(\n",
    "        match_no = int(file_name[6:8]),\n",
    "        team_1 = teams[re.split(r'[ (.)]', file_name)[3]],\n",
    "        team_2 = teams[re.split(r'[ (.)]', file_name)[5]],\n",
    "        date = match['dates'].astype('datetime64').dt.strftime('%d %B %Y')[0],\n",
    "        day = match['dates'].astype('datetime64').dt.strftime('%A')[0],\n",
    "        umpire_1 = match.loc[:, 'umpires_1'][0],\n",
    "        umpire_2 = match.loc[:, 'umpires_2'][0],\n",
    "        player_of_match = match.loc[:, 'player_of_match'][0],\n",
    "        winner = match.loc[:, 'winner'][0],\n",
    "        city = match.loc[:, 'city'][0],\n",
    "        venue = match.loc[:, 'venue'][0])\n",
    "    \n",
    "    match.drop(\n",
    "        ['match_name', 'umpires_1', 'umpires_2', 'player_of_match', 'winner', 'city', 'venue', 'dates'],\n",
    "        axis=1, inplace=True)\n",
    "    \n",
    "    match.fillna(0, inplace=True)\n",
    "    \n",
    "    match.to_csv(join(writing_path, file_name))\n",
    "    \n",
    "    return ' '.join(re.split(r'[ .]', file_name)[:5]), match_data"
   ]
  },
  {
   "cell_type": "code",
   "execution_count": 6,
   "id": "ebb4442d",
   "metadata": {},
   "outputs": [
    {
     "name": "stdout",
     "output_type": "stream",
     "text": [
      "Match 01 (MI vs RCB) 2021-04-09.csv\n",
      "Match 02 (CSK vs DC) 2021-04-10.csv\n",
      "Match 03 (SRH vs KKR) 2021-04-11.csv\n",
      "Match 04 (RR vs PBKS) 2021-04-12.csv\n",
      "Match 05 (KKR vs MI) 2021-04-13.csv\n",
      "Match 06 (SRH vs RCB) 2021-04-14.csv\n",
      "Match 07 (RR vs DC) 2021-04-15.csv\n",
      "Match 08 (PBKS vs CSK) 2021-04-16.csv\n",
      "Match 09 (MI vs SRH) 2021-04-17.csv\n",
      "Match 10 (RCB vs KKR) 2021-04-18.csv\n",
      "Match 11 (DC vs PBKS) 2021-04-18.csv\n",
      "Match 12 (CSK vs RR) 2021-04-19.csv\n",
      "Match 13 (DC vs MI) 2021-04-20.csv\n",
      "Match 14 (PBKS vs SRH) 2021-04-21.csv\n",
      "Match 15 (KKR vs CSK) 2021-04-21.csv\n",
      "Match 16 (RCB vs RR) 2021-04-22.csv\n",
      "Match 17 (PBKS vs MI) 2021-04-23.csv\n",
      "Match 18 (RR vs KKR) 2021-04-24.csv\n",
      "Match 19 (CSK vs RCB) 2021-04-25.csv\n",
      "Match 20 (SRH vs DC) 2021-04-25.csv\n",
      "Match 21 (PBKS vs KKR) 2021-04-26.csv\n",
      "Match 22 (DC vs RCB) 2021-04-27.csv\n",
      "Match 23 (CSK vs SRH) 2021-04-28.csv\n",
      "Match 24 (MI vs RR) 2021-04-29.csv\n",
      "Match 25 (DC vs KKR) 2021-04-29.csv\n",
      "Match 26 (PBKS vs RCB) 2021-04-30.csv\n",
      "Match 27 (MI vs CSK) 2021-05-01.csv\n",
      "Match 28 (RR vs SRH) 2021-05-02.csv\n",
      "Match 29 (PBKS vs DC) 2021-05-02.csv\n",
      "Match 30 (CSK vs MI) 2021-09-19.csv\n",
      "Match 31 (KKR vs RCB) 2021-09-20.csv\n",
      "Match 32 (PBKS vs RR) 2021-09-21.csv\n",
      "Match 33 (DC vs SRH) 2021-09-22.csv\n",
      "Match 34 (MI vs KKR) 2021-09-23.csv\n",
      "Match 35 (RCB vs CSK) 2021-09-24.csv\n",
      "Match 36 (DC vs RR) 2021-09-25.csv\n",
      "Match 37 (SRH vs PBKS) 2021-09-25.csv\n",
      "Match 38 (CSK vs KKR) 2021-09-26.csv\n",
      "Match 39 (RCB vs MI) 2021-09-26.csv\n",
      "Match 40 (SRH vs RR) 2021-09-27.csv\n",
      "Match 41 (KKR vs DC) 2021-09-28.csv\n",
      "Match 42 (MI vs PBKS) 2021-09-28.csv\n",
      "Match 43 (RR vs RCB) 2021-09-29.csv\n",
      "Match 44 (SRH vs CSK) 2021-09-30.csv\n",
      "Match 45 (KKR vs PBKS) 2021-10-01.csv\n",
      "Match 46 (MI vs DC) 2021-10-02.csv\n",
      "Match 47 (RR vs CSK) 2021-10-02.csv\n",
      "Match 48 (RCB vs PBKS) 2021-10-03.csv\n",
      "Match 49 (KKR vs SRH) 2021-10-03.csv\n",
      "Match 50 (DC vs CSK) 2021-10-04.csv\n",
      "Match 51 (RR vs MI) 2021-10-05.csv\n",
      "Match 52 (RCB vs SRH) 2021-10-06.csv\n",
      "Match 53 (CSK vs PBKS) 2021-10-07.csv\n",
      "Match 54 (KKR vs RR) 2021-10-07.csv\n",
      "Match 55 (SRH vs MI) 2021-10-08.csv\n",
      "Match 56 (RCB vs DC) 2021-10-08.csv\n",
      "Match 57 (DC vs CSK) 2021-10-10.csv\n",
      "Match 58 (RCB vs KKR) 2021-10-11.csv\n",
      "Match 59 (DC vs KKR) 2021-10-13.csv\n",
      "Match 60 (CSK vs KKR) 2021-10-15.csv\n"
     ]
    }
   ],
   "source": [
    "all_match_data = dict()\n",
    "\n",
    "for file in files:\n",
    "    name, data = clean_data(file)\n",
    "    all_match_data[name] = data"
   ]
  },
  {
   "cell_type": "code",
   "execution_count": 7,
   "id": "512f3a21",
   "metadata": {},
   "outputs": [
    {
     "data": {
      "text/html": [
       "<div>\n",
       "<style scoped>\n",
       "    .dataframe tbody tr th:only-of-type {\n",
       "        vertical-align: middle;\n",
       "    }\n",
       "\n",
       "    .dataframe tbody tr th {\n",
       "        vertical-align: top;\n",
       "    }\n",
       "\n",
       "    .dataframe thead th {\n",
       "        text-align: right;\n",
       "    }\n",
       "</style>\n",
       "<table border=\"1\" class=\"dataframe\">\n",
       "  <thead>\n",
       "    <tr style=\"text-align: right;\">\n",
       "      <th></th>\n",
       "      <th>match_no</th>\n",
       "      <th>team_1</th>\n",
       "      <th>team_2</th>\n",
       "      <th>date</th>\n",
       "      <th>day</th>\n",
       "      <th>umpire_1</th>\n",
       "      <th>umpire_2</th>\n",
       "      <th>player_of_match</th>\n",
       "      <th>winner</th>\n",
       "      <th>city</th>\n",
       "      <th>venue</th>\n",
       "    </tr>\n",
       "  </thead>\n",
       "  <tbody>\n",
       "    <tr>\n",
       "      <th>Match 01 (MI vs RCB)</th>\n",
       "      <td>1</td>\n",
       "      <td>Mumbai Indians</td>\n",
       "      <td>Royal Challengers Bangalore</td>\n",
       "      <td>09 April 2021</td>\n",
       "      <td>Friday</td>\n",
       "      <td>KN Ananthapadmanabhan</td>\n",
       "      <td>Nitin Menon</td>\n",
       "      <td>HV Patel</td>\n",
       "      <td>Royal Challengers Bangalore</td>\n",
       "      <td>Chennai</td>\n",
       "      <td>MA Chidambaram Stadium, Chepauk, Chennai</td>\n",
       "    </tr>\n",
       "    <tr>\n",
       "      <th>Match 02 (CSK vs DC)</th>\n",
       "      <td>2</td>\n",
       "      <td>Chennai Super Kings</td>\n",
       "      <td>Delhi Capitals</td>\n",
       "      <td>10 April 2021</td>\n",
       "      <td>Saturday</td>\n",
       "      <td>AK Chaudhary</td>\n",
       "      <td>VK Sharma</td>\n",
       "      <td>S Dhawan</td>\n",
       "      <td>Delhi Capitals</td>\n",
       "      <td>Mumbai</td>\n",
       "      <td>Wankhede Stadium, Mumbai</td>\n",
       "    </tr>\n",
       "    <tr>\n",
       "      <th>Match 03 (SRH vs KKR)</th>\n",
       "      <td>3</td>\n",
       "      <td>Sunrisers Hyderabad</td>\n",
       "      <td>Kolkata Knight Riders</td>\n",
       "      <td>11 April 2021</td>\n",
       "      <td>Sunday</td>\n",
       "      <td>KN Ananthapadmanabhan</td>\n",
       "      <td>Nitin Menon</td>\n",
       "      <td>N Rana</td>\n",
       "      <td>Kolkata Knight Riders</td>\n",
       "      <td>Chennai</td>\n",
       "      <td>MA Chidambaram Stadium, Chepauk, Chennai</td>\n",
       "    </tr>\n",
       "    <tr>\n",
       "      <th>Match 04 (RR vs PBKS)</th>\n",
       "      <td>4</td>\n",
       "      <td>Rajasthan Royals</td>\n",
       "      <td>Punjab Kings</td>\n",
       "      <td>12 April 2021</td>\n",
       "      <td>Monday</td>\n",
       "      <td>AK Chaudhary</td>\n",
       "      <td>S Ravi</td>\n",
       "      <td>SV Samson</td>\n",
       "      <td>Punjab Kings</td>\n",
       "      <td>Mumbai</td>\n",
       "      <td>Wankhede Stadium, Mumbai</td>\n",
       "    </tr>\n",
       "    <tr>\n",
       "      <th>Match 05 (KKR vs MI)</th>\n",
       "      <td>5</td>\n",
       "      <td>Kolkata Knight Riders</td>\n",
       "      <td>Mumbai Indians</td>\n",
       "      <td>13 April 2021</td>\n",
       "      <td>Tuesday</td>\n",
       "      <td>C Shamshuddin</td>\n",
       "      <td>CB Gaffaney</td>\n",
       "      <td>RD Chahar</td>\n",
       "      <td>Mumbai Indians</td>\n",
       "      <td>Chennai</td>\n",
       "      <td>MA Chidambaram Stadium, Chepauk, Chennai</td>\n",
       "    </tr>\n",
       "  </tbody>\n",
       "</table>\n",
       "</div>"
      ],
      "text/plain": [
       "                       match_no                 team_1  \\\n",
       "Match 01 (MI vs RCB)          1         Mumbai Indians   \n",
       "Match 02 (CSK vs DC)          2    Chennai Super Kings   \n",
       "Match 03 (SRH vs KKR)         3    Sunrisers Hyderabad   \n",
       "Match 04 (RR vs PBKS)         4       Rajasthan Royals   \n",
       "Match 05 (KKR vs MI)          5  Kolkata Knight Riders   \n",
       "\n",
       "                                            team_2           date       day  \\\n",
       "Match 01 (MI vs RCB)   Royal Challengers Bangalore  09 April 2021    Friday   \n",
       "Match 02 (CSK vs DC)                Delhi Capitals  10 April 2021  Saturday   \n",
       "Match 03 (SRH vs KKR)        Kolkata Knight Riders  11 April 2021    Sunday   \n",
       "Match 04 (RR vs PBKS)                 Punjab Kings  12 April 2021    Monday   \n",
       "Match 05 (KKR vs MI)                Mumbai Indians  13 April 2021   Tuesday   \n",
       "\n",
       "                                    umpire_1     umpire_2 player_of_match  \\\n",
       "Match 01 (MI vs RCB)   KN Ananthapadmanabhan  Nitin Menon        HV Patel   \n",
       "Match 02 (CSK vs DC)            AK Chaudhary    VK Sharma        S Dhawan   \n",
       "Match 03 (SRH vs KKR)  KN Ananthapadmanabhan  Nitin Menon          N Rana   \n",
       "Match 04 (RR vs PBKS)           AK Chaudhary       S Ravi       SV Samson   \n",
       "Match 05 (KKR vs MI)           C Shamshuddin  CB Gaffaney       RD Chahar   \n",
       "\n",
       "                                            winner     city  \\\n",
       "Match 01 (MI vs RCB)   Royal Challengers Bangalore  Chennai   \n",
       "Match 02 (CSK vs DC)                Delhi Capitals   Mumbai   \n",
       "Match 03 (SRH vs KKR)        Kolkata Knight Riders  Chennai   \n",
       "Match 04 (RR vs PBKS)                 Punjab Kings   Mumbai   \n",
       "Match 05 (KKR vs MI)                Mumbai Indians  Chennai   \n",
       "\n",
       "                                                          venue  \n",
       "Match 01 (MI vs RCB)   MA Chidambaram Stadium, Chepauk, Chennai  \n",
       "Match 02 (CSK vs DC)                   Wankhede Stadium, Mumbai  \n",
       "Match 03 (SRH vs KKR)  MA Chidambaram Stadium, Chepauk, Chennai  \n",
       "Match 04 (RR vs PBKS)                  Wankhede Stadium, Mumbai  \n",
       "Match 05 (KKR vs MI)   MA Chidambaram Stadium, Chepauk, Chennai  "
      ]
     },
     "execution_count": 7,
     "metadata": {},
     "output_type": "execute_result"
    }
   ],
   "source": [
    "all_match_df = pd.DataFrame(all_match_data.values(), index=all_match_data.keys())\n",
    "all_match_df.head()"
   ]
  },
  {
   "cell_type": "code",
   "execution_count": 8,
   "id": "407f17aa",
   "metadata": {},
   "outputs": [
    {
     "name": "stdout",
     "output_type": "stream",
     "text": [
      "<class 'pandas.core.frame.DataFrame'>\n",
      "Index: 60 entries, Match 01 (MI vs RCB) to Match 60 (CSK vs KKR)\n",
      "Data columns (total 11 columns):\n",
      " #   Column           Non-Null Count  Dtype \n",
      "---  ------           --------------  ----- \n",
      " 0   match_no         60 non-null     int64 \n",
      " 1   team_1           60 non-null     object\n",
      " 2   team_2           60 non-null     object\n",
      " 3   date             60 non-null     object\n",
      " 4   day              60 non-null     object\n",
      " 5   umpire_1         60 non-null     object\n",
      " 6   umpire_2         60 non-null     object\n",
      " 7   player_of_match  60 non-null     object\n",
      " 8   winner           60 non-null     object\n",
      " 9   city             60 non-null     object\n",
      " 10  venue            60 non-null     object\n",
      "dtypes: int64(1), object(10)\n",
      "memory usage: 46.9 KB\n"
     ]
    }
   ],
   "source": [
    "all_match_df.info(memory_usage='deep')"
   ]
  },
  {
   "cell_type": "code",
   "execution_count": 9,
   "id": "ddf48a6e",
   "metadata": {},
   "outputs": [],
   "source": [
    "all_match_df.to_csv(join(writing_path, 'Matche Details.csv'))"
   ]
  },
  {
   "cell_type": "markdown",
   "id": "f22dbcae",
   "metadata": {},
   "source": [
    "---"
   ]
  }
 ],
 "metadata": {
  "kernelspec": {
   "display_name": "ipl",
   "language": "python",
   "name": "ipl"
  },
  "language_info": {
   "codemirror_mode": {
    "name": "ipython",
    "version": 3
   },
   "file_extension": ".py",
   "mimetype": "text/x-python",
   "name": "python",
   "nbconvert_exporter": "python",
   "pygments_lexer": "ipython3",
   "version": "3.10.9"
  }
 },
 "nbformat": 4,
 "nbformat_minor": 5
}
