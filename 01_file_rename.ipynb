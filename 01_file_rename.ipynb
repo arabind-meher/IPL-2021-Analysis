{
 "cells": [
  {
   "cell_type": "markdown",
   "id": "89dc4831",
   "metadata": {},
   "source": [
    "# Renaming csv file in dataset\n",
    "---"
   ]
  },
  {
   "cell_type": "code",
   "execution_count": 1,
   "id": "aa65c54c",
   "metadata": {},
   "outputs": [],
   "source": [
    "import re\n",
    "from os import listdir, rename\n",
    "from os.path import join\n",
    "\n",
    "import requests\n",
    "import numpy as np\n",
    "import pandas as pd\n",
    "from bs4 import BeautifulSoup"
   ]
  },
  {
   "cell_type": "markdown",
   "id": "ff5ad7f3",
   "metadata": {},
   "source": [
    "##### URL: https://www.kaggle.com/datasets/deepcontractor/ipl-2021-ball-by-ball-dataset\n",
    "##### *delete [ALL_2021_IPL_MATCHES_BALL_BY_BALL.csv]\n",
    "#### *rename files with same date manually (after executing this file)\n",
    "#### For reference use https://www.cricbuzz.com/cricket-series/3472/indian-premier-league-2021/matches\n",
    "#### *Point Table is added manually"
   ]
  },
  {
   "cell_type": "code",
   "execution_count": 2,
   "id": "eb2b7cfd",
   "metadata": {},
   "outputs": [],
   "source": [
    "path = join('dataset', 'raw')"
   ]
  },
  {
   "cell_type": "code",
   "execution_count": 3,
   "id": "d5b0ad1d",
   "metadata": {},
   "outputs": [
    {
     "data": {
      "text/plain": [
       "['dataset\\\\raw\\\\CSK vs DC 2021-04-10.csv',\n",
       " 'dataset\\\\raw\\\\CSK vs DC 2021-10-04.csv',\n",
       " 'dataset\\\\raw\\\\CSK vs KKR 2021-04-21.csv',\n",
       " 'dataset\\\\raw\\\\CSK vs KKR 2021-10-15.csv',\n",
       " 'dataset\\\\raw\\\\CSK vs MI 2021-05-01.csv']"
      ]
     },
     "execution_count": 3,
     "metadata": {},
     "output_type": "execute_result"
    }
   ],
   "source": [
    "files = [join(path, x) for x in listdir(path)]\n",
    "files[:5]"
   ]
  },
  {
   "cell_type": "code",
   "execution_count": 4,
   "id": "70264056",
   "metadata": {},
   "outputs": [
    {
     "data": {
      "text/plain": [
       "{'Team1': 'CSK', 'Team2': 'DC', 'dates': '2021-04-10'}"
      ]
     },
     "execution_count": 4,
     "metadata": {},
     "output_type": "execute_result"
    }
   ],
   "source": [
    "files_list = dict()\n",
    "\n",
    "for index, file in enumerate(files):\n",
    "    file = file.replace('SH', 'SRH')\n",
    "    file = file.replace('PK', 'PBKS')\n",
    "    split_name = re.split(r'[ (.)]', file.split('\\\\')[2])\n",
    "    files_list[index] = {\n",
    "        'Team1': split_name[0],\n",
    "        'Team2': split_name[2],\n",
    "        'dates': split_name[3]\n",
    "    }\n",
    "    \n",
    "files_list[0]"
   ]
  },
  {
   "cell_type": "code",
   "execution_count": 5,
   "id": "e2809ac8",
   "metadata": {},
   "outputs": [],
   "source": [
    "url = 'https://www.business-standard.com/sports/ipl-2021/schedule'"
   ]
  },
  {
   "cell_type": "code",
   "execution_count": 6,
   "id": "8fa44232",
   "metadata": {},
   "outputs": [],
   "source": [
    "soup = BeautifulSoup(requests.get(url).text, 'html.parser')"
   ]
  },
  {
   "cell_type": "code",
   "execution_count": 7,
   "id": "8b6bcf9b",
   "metadata": {},
   "outputs": [],
   "source": [
    "names = soup.find_all('h2', {'class': 'title3'})\n",
    "\n",
    "team_1 = list()\n",
    "team_2 = list()\n",
    "for i, name in enumerate(names):\n",
    "    if i % 2 == 0:\n",
    "        team_1.append(name.text)\n",
    "    else:\n",
    "        team_2.append(name.text)"
   ]
  },
  {
   "cell_type": "code",
   "execution_count": 8,
   "id": "8128754a",
   "metadata": {},
   "outputs": [
    {
     "data": {
      "text/plain": [
       "['MI vs RCB', 'CSK vs DC', 'SRH vs KKR', 'RR vs PBKS', 'KKR vs MI']"
      ]
     },
     "execution_count": 8,
     "metadata": {},
     "output_type": "execute_result"
    }
   ],
   "source": [
    "team_3 = list()\n",
    "\n",
    "for x in zip(team_1, team_2):\n",
    "    team_3.append(f'{x[0]} vs {x[1]}')\n",
    "\n",
    "team_3[:5]"
   ]
  },
  {
   "cell_type": "code",
   "execution_count": 9,
   "id": "bbd5ec2c",
   "metadata": {},
   "outputs": [
    {
     "data": {
      "text/html": [
       "<div>\n",
       "<style scoped>\n",
       "    .dataframe tbody tr th:only-of-type {\n",
       "        vertical-align: middle;\n",
       "    }\n",
       "\n",
       "    .dataframe tbody tr th {\n",
       "        vertical-align: top;\n",
       "    }\n",
       "\n",
       "    .dataframe thead th {\n",
       "        text-align: right;\n",
       "    }\n",
       "</style>\n",
       "<table border=\"1\" class=\"dataframe\">\n",
       "  <thead>\n",
       "    <tr style=\"text-align: right;\">\n",
       "      <th></th>\n",
       "      <th>Team1</th>\n",
       "      <th>Team2</th>\n",
       "      <th>dates</th>\n",
       "      <th>check_index</th>\n",
       "      <th>TvT</th>\n",
       "    </tr>\n",
       "    <tr>\n",
       "      <th>dates</th>\n",
       "      <th></th>\n",
       "      <th></th>\n",
       "      <th></th>\n",
       "      <th></th>\n",
       "      <th></th>\n",
       "    </tr>\n",
       "  </thead>\n",
       "  <tbody>\n",
       "    <tr>\n",
       "      <th>2021-04-09</th>\n",
       "      <td>MI</td>\n",
       "      <td>RCB</td>\n",
       "      <td>2021-04-09</td>\n",
       "      <td>28</td>\n",
       "      <td>MI vs RCB</td>\n",
       "    </tr>\n",
       "    <tr>\n",
       "      <th>2021-04-10</th>\n",
       "      <td>CSK</td>\n",
       "      <td>DC</td>\n",
       "      <td>2021-04-10</td>\n",
       "      <td>0</td>\n",
       "      <td>CSK vs DC</td>\n",
       "    </tr>\n",
       "    <tr>\n",
       "      <th>2021-04-11</th>\n",
       "      <td>KKR</td>\n",
       "      <td>SRH</td>\n",
       "      <td>2021-04-11</td>\n",
       "      <td>22</td>\n",
       "      <td>SRH vs KKR</td>\n",
       "    </tr>\n",
       "    <tr>\n",
       "      <th>2021-04-12</th>\n",
       "      <td>PBKS</td>\n",
       "      <td>RR</td>\n",
       "      <td>2021-04-12</td>\n",
       "      <td>37</td>\n",
       "      <td>RR vs PBKS</td>\n",
       "    </tr>\n",
       "    <tr>\n",
       "      <th>2021-04-13</th>\n",
       "      <td>MI</td>\n",
       "      <td>KKR</td>\n",
       "      <td>2021-04-13</td>\n",
       "      <td>25</td>\n",
       "      <td>KKR vs MI</td>\n",
       "    </tr>\n",
       "  </tbody>\n",
       "</table>\n",
       "</div>"
      ],
      "text/plain": [
       "           Team1 Team2       dates  check_index         TvT\n",
       "dates                                                      \n",
       "2021-04-09    MI   RCB  2021-04-09           28   MI vs RCB\n",
       "2021-04-10   CSK    DC  2021-04-10            0   CSK vs DC\n",
       "2021-04-11   KKR   SRH  2021-04-11           22  SRH vs KKR\n",
       "2021-04-12  PBKS    RR  2021-04-12           37  RR vs PBKS\n",
       "2021-04-13    MI   KKR  2021-04-13           25   KKR vs MI"
      ]
     },
     "execution_count": 9,
     "metadata": {},
     "output_type": "execute_result"
    }
   ],
   "source": [
    "files_df = pd.DataFrame(files_list.values())\n",
    "files_df.astype({\n",
    "    'dates': 'datetime64',\n",
    "    'Team1': 'category',\n",
    "    'Team2': 'category',\n",
    "})\n",
    "files_df['check_index'] = np.arange(len(files_df))\n",
    "files_df.set_index(files_df['dates'], inplace=True)\n",
    "files_df.sort_index(inplace=True)\n",
    "files_df['TvT'] = team_3\n",
    "\n",
    "files_df.head()"
   ]
  },
  {
   "cell_type": "code",
   "execution_count": 10,
   "id": "c0aaa86d",
   "metadata": {},
   "outputs": [
    {
     "data": {
      "text/plain": [
       "['Match 01 (MI vs RCB) 2021-04-09.csv',\n",
       " 'Match 02 (CSK vs DC) 2021-04-10.csv',\n",
       " 'Match 03 (SRH vs KKR) 2021-04-11.csv',\n",
       " 'Match 04 (RR vs PBKS) 2021-04-12.csv',\n",
       " 'Match 05 (KKR vs MI) 2021-04-13.csv']"
      ]
     },
     "execution_count": 10,
     "metadata": {},
     "output_type": "execute_result"
    }
   ],
   "source": [
    "match_name = list()\n",
    "\n",
    "for i, file in enumerate(files_df.iterrows()):\n",
    "    file = file[1]\n",
    "    match_name.append(f\"Match {'%02d'%(i+1)} ({file[4]}) {file[2]}.csv\")\n",
    "match_name[:5]"
   ]
  },
  {
   "cell_type": "code",
   "execution_count": 11,
   "id": "fc585101",
   "metadata": {},
   "outputs": [
    {
     "data": {
      "text/html": [
       "<div>\n",
       "<style scoped>\n",
       "    .dataframe tbody tr th:only-of-type {\n",
       "        vertical-align: middle;\n",
       "    }\n",
       "\n",
       "    .dataframe tbody tr th {\n",
       "        vertical-align: top;\n",
       "    }\n",
       "\n",
       "    .dataframe thead th {\n",
       "        text-align: right;\n",
       "    }\n",
       "</style>\n",
       "<table border=\"1\" class=\"dataframe\">\n",
       "  <thead>\n",
       "    <tr style=\"text-align: right;\">\n",
       "      <th></th>\n",
       "      <th>Team1</th>\n",
       "      <th>Team2</th>\n",
       "      <th>dates</th>\n",
       "      <th>check_index</th>\n",
       "      <th>TvT</th>\n",
       "      <th>Match Name</th>\n",
       "    </tr>\n",
       "    <tr>\n",
       "      <th>dates</th>\n",
       "      <th></th>\n",
       "      <th></th>\n",
       "      <th></th>\n",
       "      <th></th>\n",
       "      <th></th>\n",
       "      <th></th>\n",
       "    </tr>\n",
       "  </thead>\n",
       "  <tbody>\n",
       "    <tr>\n",
       "      <th>2021-04-10</th>\n",
       "      <td>CSK</td>\n",
       "      <td>DC</td>\n",
       "      <td>2021-04-10</td>\n",
       "      <td>0</td>\n",
       "      <td>CSK vs DC</td>\n",
       "      <td>Match 02 (CSK vs DC) 2021-04-10.csv</td>\n",
       "    </tr>\n",
       "    <tr>\n",
       "      <th>2021-10-04</th>\n",
       "      <td>CSK</td>\n",
       "      <td>DC</td>\n",
       "      <td>2021-10-04</td>\n",
       "      <td>1</td>\n",
       "      <td>DC vs CSK</td>\n",
       "      <td>Match 50 (DC vs CSK) 2021-10-04.csv</td>\n",
       "    </tr>\n",
       "    <tr>\n",
       "      <th>2021-04-21</th>\n",
       "      <td>CSK</td>\n",
       "      <td>KKR</td>\n",
       "      <td>2021-04-21</td>\n",
       "      <td>2</td>\n",
       "      <td>KKR vs CSK</td>\n",
       "      <td>Match 15 (KKR vs CSK) 2021-04-21.csv</td>\n",
       "    </tr>\n",
       "    <tr>\n",
       "      <th>2021-10-15</th>\n",
       "      <td>CSK</td>\n",
       "      <td>KKR</td>\n",
       "      <td>2021-10-15</td>\n",
       "      <td>3</td>\n",
       "      <td>CSK vs KKR</td>\n",
       "      <td>Match 60 (CSK vs KKR) 2021-10-15.csv</td>\n",
       "    </tr>\n",
       "    <tr>\n",
       "      <th>2021-05-01</th>\n",
       "      <td>CSK</td>\n",
       "      <td>MI</td>\n",
       "      <td>2021-05-01</td>\n",
       "      <td>4</td>\n",
       "      <td>MI vs CSK</td>\n",
       "      <td>Match 27 (MI vs CSK) 2021-05-01.csv</td>\n",
       "    </tr>\n",
       "  </tbody>\n",
       "</table>\n",
       "</div>"
      ],
      "text/plain": [
       "           Team1 Team2       dates  check_index         TvT  \\\n",
       "dates                                                         \n",
       "2021-04-10   CSK    DC  2021-04-10            0   CSK vs DC   \n",
       "2021-10-04   CSK    DC  2021-10-04            1   DC vs CSK   \n",
       "2021-04-21   CSK   KKR  2021-04-21            2  KKR vs CSK   \n",
       "2021-10-15   CSK   KKR  2021-10-15            3  CSK vs KKR   \n",
       "2021-05-01   CSK    MI  2021-05-01            4   MI vs CSK   \n",
       "\n",
       "                                      Match Name  \n",
       "dates                                             \n",
       "2021-04-10   Match 02 (CSK vs DC) 2021-04-10.csv  \n",
       "2021-10-04   Match 50 (DC vs CSK) 2021-10-04.csv  \n",
       "2021-04-21  Match 15 (KKR vs CSK) 2021-04-21.csv  \n",
       "2021-10-15  Match 60 (CSK vs KKR) 2021-10-15.csv  \n",
       "2021-05-01   Match 27 (MI vs CSK) 2021-05-01.csv  "
      ]
     },
     "execution_count": 11,
     "metadata": {},
     "output_type": "execute_result"
    }
   ],
   "source": [
    "files_df['Match Name'] = match_name\n",
    "files_df.sort_values('check_index', inplace=True)\n",
    "files_df.head()"
   ]
  },
  {
   "cell_type": "code",
   "execution_count": 12,
   "id": "9ebeba34",
   "metadata": {},
   "outputs": [
    {
     "data": {
      "text/plain": [
       "['dataset\\\\raw\\\\Match 02 (CSK vs DC) 2021-04-10.csv',\n",
       " 'dataset\\\\raw\\\\Match 50 (DC vs CSK) 2021-10-04.csv',\n",
       " 'dataset\\\\raw\\\\Match 15 (KKR vs CSK) 2021-04-21.csv',\n",
       " 'dataset\\\\raw\\\\Match 60 (CSK vs KKR) 2021-10-15.csv',\n",
       " 'dataset\\\\raw\\\\Match 27 (MI vs CSK) 2021-05-01.csv']"
      ]
     },
     "execution_count": 12,
     "metadata": {},
     "output_type": "execute_result"
    }
   ],
   "source": [
    "new_names = files_df['Match Name'].tolist()\n",
    "new_file_names = [join(path, x) for x in new_names]\n",
    "new_file_names[:5]"
   ]
  },
  {
   "cell_type": "code",
   "execution_count": 13,
   "id": "924d7294",
   "metadata": {},
   "outputs": [],
   "source": [
    "for x in zip(files, new_file_names):\n",
    "    rename(x[0], x[1])"
   ]
  },
  {
   "cell_type": "markdown",
   "id": "b695a013",
   "metadata": {},
   "source": [
    "---"
   ]
  }
 ],
 "metadata": {
  "kernelspec": {
   "display_name": "ipl",
   "language": "python",
   "name": "ipl"
  },
  "language_info": {
   "codemirror_mode": {
    "name": "ipython",
    "version": 3
   },
   "file_extension": ".py",
   "mimetype": "text/x-python",
   "name": "python",
   "nbconvert_exporter": "python",
   "pygments_lexer": "ipython3",
   "version": "3.10.9"
  }
 },
 "nbformat": 4,
 "nbformat_minor": 5
}
